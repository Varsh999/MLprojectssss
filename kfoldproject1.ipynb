{
  "cells": [
    {
      "cell_type": "markdown",
      "metadata": {
        "id": "view-in-github",
        "colab_type": "text"
      },
      "source": [
        "<a href=\"https://colab.research.google.com/github/Varsh999/MLprojectssss/blob/main/kfoldproject1.ipynb\" target=\"_parent\"><img src=\"https://colab.research.google.com/assets/colab-badge.svg\" alt=\"Open In Colab\"/></a>"
      ]
    },
    {
      "cell_type": "code",
      "execution_count": null,
      "id": "52ea4c6b-fb5d-406d-b1e8-a38d69334004",
      "metadata": {
        "id": "52ea4c6b-fb5d-406d-b1e8-a38d69334004",
        "outputId": "98c2420a-280e-4541-fc05-63449d543d1d"
      },
      "outputs": [
        {
          "name": "stdout",
          "output_type": "stream",
          "text": [
            "Dataset columns: ['bytes_in', 'bytes_out', 'creation_time', 'end_time', 'src_ip', 'src_ip_country_code', 'protocol', 'response_code', 'dst_port', 'dst_ip', 'label']\n",
            "Fold 1 Accuracy: 1.0000\n",
            "Fold 2 Accuracy: 1.0000\n",
            "Fold 3 Accuracy: 1.0000\n",
            "Fold 4 Accuracy: 1.0000\n",
            "Fold 5 Accuracy: 1.0000\n",
            "\n",
            "Average Accuracy: 1.0\n",
            "\n",
            "Predicted Label: Normal\n"
          ]
        }
      ],
      "source": [
        "import pandas as pd\n",
        "from sklearn.model_selection import KFold\n",
        "from sklearn.preprocessing import LabelEncoder\n",
        "from sklearn.ensemble import RandomForestClassifier\n",
        "from sklearn.metrics import accuracy_score\n",
        "\n",
        "# -------------------------------\n",
        "# 1. Load dataset\n",
        "# -------------------------------\n",
        "df = pd.read_csv(\"D:/network_logs_1000.csv\")\n",
        "\n",
        "print(\"Dataset columns:\", df.columns.tolist())  # 👈 check actual names\n",
        "\n",
        "# -------------------------------\n",
        "# 2. Features and target\n",
        "# -------------------------------\n",
        "features = [\n",
        "    \"bytes_in\", \"bytes_out\", \"creation_time\", \"end_time\",\n",
        "    \"src_ip\", \"src_ip_country_code\", \"protocol\",\n",
        "    \"response.code\", \"dst_port\", \"dst_ip\"\n",
        "]\n",
        "target = \"label\"\n",
        "\n",
        "# only keep columns that exist in dataset\n",
        "features = [col for col in features if col in df.columns]\n",
        "\n",
        "X = df[features].copy()\n",
        "y = df[target]\n",
        "\n",
        "# -------------------------------\n",
        "# 3. Encode categorical features\n",
        "# -------------------------------\n",
        "categorical_cols = [col for col in features if X[col].dtype == \"object\"]\n",
        "\n",
        "encoders = {}\n",
        "for col in categorical_cols:\n",
        "    le = LabelEncoder()\n",
        "    X[col] = le.fit_transform(X[col].astype(str))\n",
        "    encoders[col] = le\n",
        "\n",
        "# -------------------------------\n",
        "# 4. K-Fold Training\n",
        "# -------------------------------\n",
        "kf = KFold(n_splits=5, shuffle=True, random_state=42)\n",
        "model = RandomForestClassifier(random_state=42)\n",
        "\n",
        "fold = 1\n",
        "accuracies = []\n",
        "\n",
        "for train_index, test_index in kf.split(X):\n",
        "    X_train, X_test = X.iloc[train_index], X.iloc[test_index]\n",
        "    y_train, y_test = y.iloc[train_index], y.iloc[test_index]\n",
        "\n",
        "    model.fit(X_train, y_train)\n",
        "    preds = model.predict(X_test)\n",
        "    acc = accuracy_score(y_test, preds)\n",
        "    accuracies.append(acc)\n",
        "    print(f\"Fold {fold} Accuracy: {acc:.4f}\")\n",
        "    fold += 1\n",
        "\n",
        "print(\"\\nAverage Accuracy:\", sum(accuracies) / len(accuracies))\n",
        "\n",
        "# -------------------------------\n",
        "# 5. Example Prediction\n",
        "# -------------------------------\n",
        "new_log = {\n",
        "    \"bytes_in\": 5602,\n",
        "    \"bytes_out\": 12990,\n",
        "    \"creation_time\": \"2024-04-25T23:00:00Z\",\n",
        "    \"end_time\": \"2024-04-25T23:10:00Z\",\n",
        "    \"src_ip\": \"147.161.161.82\",\n",
        "    \"src_ip_country_code\": \"AE\",\n",
        "    \"protocol\": \"HTTPS\",\n",
        "    \"response.code\": 200,\n",
        "    \"dst_port\": 443,\n",
        "    \"dst_ip\": \"10.138.69.9\"\n",
        "}\n",
        "\n",
        "# keep only features used in training\n",
        "new_log = {k: v for k, v in new_log.items() if k in features}\n",
        "\n",
        "# encode categorical columns\n",
        "for col in categorical_cols:\n",
        "    if new_log[col] in encoders[col].classes_:\n",
        "        new_log[col] = encoders[col].transform([new_log[col]])[0]\n",
        "    else:\n",
        "        new_log[col] = -1  # unseen value\n",
        "\n",
        "df_log = pd.DataFrame([new_log])\n",
        "prediction = model.predict(df_log)[0]\n",
        "\n",
        "print(\"\\nPredicted Label:\", prediction)\n"
      ]
    },
    {
      "cell_type": "code",
      "execution_count": null,
      "id": "35cf4ff2-b342-4b1e-8268-006527ab8f32",
      "metadata": {
        "id": "35cf4ff2-b342-4b1e-8268-006527ab8f32"
      },
      "outputs": [],
      "source": []
    }
  ],
  "metadata": {
    "kernelspec": {
      "display_name": "Python 3 (ipykernel)",
      "language": "python",
      "name": "python3"
    },
    "language_info": {
      "codemirror_mode": {
        "name": "ipython",
        "version": 3
      },
      "file_extension": ".py",
      "mimetype": "text/x-python",
      "name": "python",
      "nbconvert_exporter": "python",
      "pygments_lexer": "ipython3",
      "version": "3.12.7"
    },
    "colab": {
      "provenance": [],
      "include_colab_link": true
    }
  },
  "nbformat": 4,
  "nbformat_minor": 5
}