{
  "cells": [
    {
      "cell_type": "markdown",
      "metadata": {
        "id": "view-in-github",
        "colab_type": "text"
      },
      "source": [
        "<a href=\"https://colab.research.google.com/github/Varsh999/MLprojectssss/blob/main/project2_(1).ipynb\" target=\"_parent\"><img src=\"https://colab.research.google.com/assets/colab-badge.svg\" alt=\"Open In Colab\"/></a>"
      ]
    },
    {
      "cell_type": "code",
      "execution_count": null,
      "id": "f7ea8b4e-c303-4e07-bc7e-c21a098ac4a5",
      "metadata": {
        "id": "f7ea8b4e-c303-4e07-bc7e-c21a098ac4a5",
        "outputId": "009cfbf6-a571-465e-84df-7ff36473beca"
      },
      "outputs": [
        {
          "name": "stdout",
          "output_type": "stream",
          "text": [
            "Bayesian Classifier Accuracy: 0.97\n"
          ]
        }
      ],
      "source": [
        "import numpy as np\n",
        "from sklearn.datasets import load_iris\n",
        "from sklearn.model_selection import train_test_split\n",
        "from scipy.stats import multivariate_normal\n",
        "\n",
        "class BayesianClassifier:\n",
        "    def fit(self, X, y):\n",
        "        self.classes = np.unique(y)\n",
        "        self.priors = {}\n",
        "        self.means = {}\n",
        "        self.covariances = {}\n",
        "\n",
        "        for c in self.classes:\n",
        "            X_c = X[y == c]\n",
        "            self.priors[c] = X_c.shape[0] / X.shape[0]\n",
        "            self.means[c] = np.mean(X_c, axis=0)\n",
        "            self.covariances[c] = np.cov(X_c, rowvar=False)\n",
        "\n",
        "    def predict(self, X):\n",
        "        y_pred = []\n",
        "        for x in X:\n",
        "            posteriors = []\n",
        "            for c in self.classes:\n",
        "                prior = np.log(self.priors[c])  # log prior\n",
        "                likelihood = multivariate_normal.logpdf(x, mean=self.means[c], cov=self.covariances[c])\n",
        "                posterior = prior + likelihood\n",
        "                posteriors.append(posterior)\n",
        "            y_pred.append(self.classes[np.argmax(posteriors)])\n",
        "        return np.array(y_pred)\n",
        "\n",
        "# Load data\n",
        "data = load_iris()\n",
        "X, y = data.data, data.target\n",
        "\n",
        "# Split into train and test sets\n",
        "X_train, X_test, y_train, y_test = train_test_split(X, y, test_size=0.2, random_state=42)\n",
        "\n",
        "# Train Bayesian Classifier\n",
        "clf = BayesianClassifier()\n",
        "clf.fit(X_train, y_train)\n",
        "\n",
        "# Predict on test data\n",
        "y_pred = clf.predict(X_test)\n",
        "\n",
        "# Accuracy\n",
        "accuracy = np.mean(y_pred == y_test)\n",
        "print(f\"Bayesian Classifier Accuracy: {accuracy:.2f}\")"
      ]
    },
    {
      "cell_type": "code",
      "execution_count": null,
      "id": "51821788-cc51-4d73-9177-e21609031a14",
      "metadata": {
        "id": "51821788-cc51-4d73-9177-e21609031a14"
      },
      "outputs": [],
      "source": []
    }
  ],
  "metadata": {
    "kernelspec": {
      "display_name": "Python 3 (ipykernel)",
      "language": "python",
      "name": "python3"
    },
    "language_info": {
      "codemirror_mode": {
        "name": "ipython",
        "version": 3
      },
      "file_extension": ".py",
      "mimetype": "text/x-python",
      "name": "python",
      "nbconvert_exporter": "python",
      "pygments_lexer": "ipython3",
      "version": "3.12.7"
    },
    "colab": {
      "provenance": [],
      "include_colab_link": true
    }
  },
  "nbformat": 4,
  "nbformat_minor": 5
}